{
 "cells": [
  {
   "cell_type": "markdown",
   "id": "d67fb2b7-f428-4a42-a9d4-61c9884a8f57",
   "metadata": {},
   "source": [
    "# **SHARK TANK DATA ANALYSIS**"
   ]
  },
  {
   "cell_type": "markdown",
   "id": "ab513a75-31bf-4e14-acb6-b70c4053e4bf",
   "metadata": {},
   "source": [
    "Data Analysis is all about Manipulating Data according to our needs. In this Example, we are using Shark Tank data which tells us about how many offers were made, at what price and equity and also tells about the Category the Startup is based on. \n",
    "\n",
    "Shark Tank is a program that allows various Unicorn founders to invest in the newly launched Startups and help the Startups to grow and up scale.\n",
    "This data includes some key informations like **Brand** Name, **Location** where the Startup is situated, **Idea** on which the Startup is based, **Sector** of the Startup, **Deal** made at what Amount and Equity(Shares), **Amount Asked** by the Founders and Co-Founders of the Startup, etc."
   ]
  },
  {
   "cell_type": "markdown",
   "id": "cf503fe1-7256-4056-89e8-c8f4b7639350",
   "metadata": {},
   "source": [
    "**IMPORT ESSENTIAL LIBRARIES**"
   ]
  },
  {
   "cell_type": "code",
   "execution_count": 211,
   "id": "a518b18f-1d27-4cdb-9803-06a484e9dff5",
   "metadata": {},
   "outputs": [],
   "source": [
    "import numpy as np #for numerical analysis\n",
    "import pandas as pd #for data analysis"
   ]
  },
  {
   "cell_type": "markdown",
   "id": "5853dd0b-4b8e-4fd9-a9fa-ca3c7ad8488a",
   "metadata": {},
   "source": [
    "**READING DATASET**"
   ]
  },
  {
   "cell_type": "code",
   "execution_count": 212,
   "id": "841e9674-8694-48ac-b140-0c6762f9cbac",
   "metadata": {},
   "outputs": [],
   "source": [
    "df=pd.read_csv('shark_tank_data.csv')"
   ]
  },
  {
   "cell_type": "markdown",
   "id": "bff4839a-9c84-4e27-9a49-3bfac3150be3",
   "metadata": {},
   "source": [
    "**DATASET FIRST VIEW**"
   ]
  },
  {
   "cell_type": "code",
   "execution_count": 213,
   "id": "08792df0-d5a0-48a0-a165-a57d8b0fc750",
   "metadata": {},
   "outputs": [
    {
     "data": {
      "text/html": [
       "<div>\n",
       "<style scoped>\n",
       "    .dataframe tbody tr th:only-of-type {\n",
       "        vertical-align: middle;\n",
       "    }\n",
       "\n",
       "    .dataframe tbody tr th {\n",
       "        vertical-align: top;\n",
       "    }\n",
       "\n",
       "    .dataframe thead th {\n",
       "        text-align: right;\n",
       "    }\n",
       "</style>\n",
       "<table border=\"1\" class=\"dataframe\">\n",
       "  <thead>\n",
       "    <tr style=\"text-align: right;\">\n",
       "      <th></th>\n",
       "      <th>Ep. No.</th>\n",
       "      <th>Brand</th>\n",
       "      <th>Male</th>\n",
       "      <th>Female</th>\n",
       "      <th>Location</th>\n",
       "      <th>Idea</th>\n",
       "      <th>Sector</th>\n",
       "      <th>Deal</th>\n",
       "      <th>Amount Invested lakhs</th>\n",
       "      <th>Amout Asked</th>\n",
       "      <th>...</th>\n",
       "      <th>Unnamed: 32</th>\n",
       "      <th>Unnamed: 33</th>\n",
       "      <th>Unnamed: 34</th>\n",
       "      <th>Unnamed: 35</th>\n",
       "      <th>Unnamed: 36</th>\n",
       "      <th>Unnamed: 37</th>\n",
       "      <th>Unnamed: 38</th>\n",
       "      <th>Unnamed: 39</th>\n",
       "      <th>Unnamed: 40</th>\n",
       "      <th>Unnamed: 41</th>\n",
       "    </tr>\n",
       "  </thead>\n",
       "  <tbody>\n",
       "    <tr>\n",
       "      <th>0</th>\n",
       "      <td>1</td>\n",
       "      <td>BluePine Industries</td>\n",
       "      <td>2.0</td>\n",
       "      <td>1.0</td>\n",
       "      <td>Delhi</td>\n",
       "      <td>Frozen Momos</td>\n",
       "      <td>Food</td>\n",
       "      <td>₹75 lakhs for 16% equity</td>\n",
       "      <td>75.0</td>\n",
       "      <td>50</td>\n",
       "      <td>...</td>\n",
       "      <td>0</td>\n",
       "      <td>NaN</td>\n",
       "      <td>NaN</td>\n",
       "      <td>NaN</td>\n",
       "      <td>NaN</td>\n",
       "      <td>NaN</td>\n",
       "      <td>NaN</td>\n",
       "      <td>NaN</td>\n",
       "      <td>NaN</td>\n",
       "      <td>NaN</td>\n",
       "    </tr>\n",
       "    <tr>\n",
       "      <th>1</th>\n",
       "      <td>1</td>\n",
       "      <td>Booz scooters</td>\n",
       "      <td>1.0</td>\n",
       "      <td>0.0</td>\n",
       "      <td>Ahemdabad</td>\n",
       "      <td>Renting e-bike for mobility in private spaces</td>\n",
       "      <td>Automobile</td>\n",
       "      <td>₹40 lakhs for 50% equity</td>\n",
       "      <td>40.0</td>\n",
       "      <td>40</td>\n",
       "      <td>...</td>\n",
       "      <td>0</td>\n",
       "      <td>NaN</td>\n",
       "      <td>NaN</td>\n",
       "      <td>NaN</td>\n",
       "      <td>NaN</td>\n",
       "      <td>NaN</td>\n",
       "      <td>NaN</td>\n",
       "      <td>NaN</td>\n",
       "      <td>NaN</td>\n",
       "      <td>NaN</td>\n",
       "    </tr>\n",
       "    <tr>\n",
       "      <th>2</th>\n",
       "      <td>1</td>\n",
       "      <td>Heart up my Sleeves</td>\n",
       "      <td>0.0</td>\n",
       "      <td>1.0</td>\n",
       "      <td>Delhi</td>\n",
       "      <td>Detachable Sleeves</td>\n",
       "      <td>Clothes</td>\n",
       "      <td>₹25 lakhs for 30% equity</td>\n",
       "      <td>25.0</td>\n",
       "      <td>25</td>\n",
       "      <td>...</td>\n",
       "      <td>0</td>\n",
       "      <td>NaN</td>\n",
       "      <td>NaN</td>\n",
       "      <td>NaN</td>\n",
       "      <td>NaN</td>\n",
       "      <td>NaN</td>\n",
       "      <td>NaN</td>\n",
       "      <td>NaN</td>\n",
       "      <td>NaN</td>\n",
       "      <td>NaN</td>\n",
       "    </tr>\n",
       "    <tr>\n",
       "      <th>3</th>\n",
       "      <td>2</td>\n",
       "      <td>Tagz Foods</td>\n",
       "      <td>2.0</td>\n",
       "      <td>0.0</td>\n",
       "      <td>Bangalore</td>\n",
       "      <td>Healthy Potato Chips</td>\n",
       "      <td>Food</td>\n",
       "      <td>₹70 lakhs for 2.75% equity</td>\n",
       "      <td>70.0</td>\n",
       "      <td>70</td>\n",
       "      <td>...</td>\n",
       "      <td>0</td>\n",
       "      <td>NaN</td>\n",
       "      <td>NaN</td>\n",
       "      <td>NaN</td>\n",
       "      <td>NaN</td>\n",
       "      <td>NaN</td>\n",
       "      <td>NaN</td>\n",
       "      <td>NaN</td>\n",
       "      <td>NaN</td>\n",
       "      <td>NaN</td>\n",
       "    </tr>\n",
       "    <tr>\n",
       "      <th>4</th>\n",
       "      <td>2</td>\n",
       "      <td>Head and Heart</td>\n",
       "      <td>1.0</td>\n",
       "      <td>1.0</td>\n",
       "      <td>Delhi</td>\n",
       "      <td>Brain Development Course</td>\n",
       "      <td>Health</td>\n",
       "      <td>No Deal</td>\n",
       "      <td>0.0</td>\n",
       "      <td>50</td>\n",
       "      <td>...</td>\n",
       "      <td>0</td>\n",
       "      <td>NaN</td>\n",
       "      <td>NaN</td>\n",
       "      <td>Ama</td>\n",
       "      <td>Anu</td>\n",
       "      <td>Ash</td>\n",
       "      <td>Gha</td>\n",
       "      <td>Nam</td>\n",
       "      <td>Pey</td>\n",
       "      <td>Vin</td>\n",
       "    </tr>\n",
       "  </tbody>\n",
       "</table>\n",
       "<p>5 rows × 42 columns</p>\n",
       "</div>"
      ],
      "text/plain": [
       "   Ep. No.                Brand  Male  Female   Location  \\\n",
       "0        1  BluePine Industries   2.0     1.0      Delhi   \n",
       "1        1        Booz scooters   1.0     0.0  Ahemdabad   \n",
       "2        1  Heart up my Sleeves   0.0     1.0      Delhi   \n",
       "3        2           Tagz Foods   2.0     0.0  Bangalore   \n",
       "4        2       Head and Heart   1.0     1.0      Delhi   \n",
       "\n",
       "                                            Idea      Sector  \\\n",
       "0                                   Frozen Momos        Food   \n",
       "1  Renting e-bike for mobility in private spaces  Automobile   \n",
       "2                             Detachable Sleeves     Clothes   \n",
       "3                           Healthy Potato Chips        Food   \n",
       "4                       Brain Development Course      Health   \n",
       "\n",
       "                         Deal  Amount Invested lakhs Amout Asked  ...  \\\n",
       "0    ₹75 lakhs for 16% equity                   75.0          50  ...   \n",
       "1    ₹40 lakhs for 50% equity                   40.0          40  ...   \n",
       "2    ₹25 lakhs for 30% equity                   25.0          25  ...   \n",
       "3  ₹70 lakhs for 2.75% equity                   70.0          70  ...   \n",
       "4                     No Deal                    0.0          50  ...   \n",
       "\n",
       "   Unnamed: 32  Unnamed: 33  Unnamed: 34  Unnamed: 35 Unnamed: 36  \\\n",
       "0            0          NaN          NaN          NaN         NaN   \n",
       "1            0          NaN          NaN          NaN         NaN   \n",
       "2            0          NaN          NaN          NaN         NaN   \n",
       "3            0          NaN          NaN          NaN         NaN   \n",
       "4            0          NaN          NaN          Ama         Anu   \n",
       "\n",
       "   Unnamed: 37  Unnamed: 38  Unnamed: 39  Unnamed: 40  Unnamed: 41  \n",
       "0          NaN          NaN          NaN          NaN          NaN  \n",
       "1          NaN          NaN          NaN          NaN          NaN  \n",
       "2          NaN          NaN          NaN          NaN          NaN  \n",
       "3          NaN          NaN          NaN          NaN          NaN  \n",
       "4          Ash          Gha          Nam          Pey          Vin  \n",
       "\n",
       "[5 rows x 42 columns]"
      ]
     },
     "execution_count": 213,
     "metadata": {},
     "output_type": "execute_result"
    }
   ],
   "source": [
    "df.head()"
   ]
  },
  {
   "cell_type": "markdown",
   "id": "e81ec0de-2071-4a9e-9741-2e81fa739627",
   "metadata": {},
   "source": [
    "**DATASET ROWS AND COLUMNS COUNT**"
   ]
  },
  {
   "cell_type": "code",
   "execution_count": 214,
   "id": "abfec1b0-97ef-403b-a1b9-2ed9d5c51393",
   "metadata": {},
   "outputs": [
    {
     "data": {
      "text/plain": [
       "(98, 42)"
      ]
     },
     "execution_count": 214,
     "metadata": {},
     "output_type": "execute_result"
    }
   ],
   "source": [
    "df.shape"
   ]
  },
  {
   "cell_type": "markdown",
   "id": "5e8aa60d-9aa3-476f-a7da-2cf35e8a4e44",
   "metadata": {},
   "source": [
    "**DATASET INFORMATION**"
   ]
  },
  {
   "cell_type": "code",
   "execution_count": 215,
   "id": "af727711-481b-4b21-ba0a-48207bc25443",
   "metadata": {},
   "outputs": [
    {
     "name": "stdout",
     "output_type": "stream",
     "text": [
      "<class 'pandas.core.frame.DataFrame'>\n",
      "RangeIndex: 98 entries, 0 to 97\n",
      "Data columns (total 42 columns):\n",
      " #   Column                   Non-Null Count  Dtype  \n",
      "---  ------                   --------------  -----  \n",
      " 0   Ep. No.                  98 non-null     int64  \n",
      " 1   Brand                    98 non-null     object \n",
      " 2   Male                     96 non-null     float64\n",
      " 3   Female                   96 non-null     float64\n",
      " 4   Location                 97 non-null     object \n",
      " 5   Idea                     98 non-null     object \n",
      " 6   Sector                   97 non-null     object \n",
      " 7   Deal                     98 non-null     object \n",
      " 8   Amount Invested lakhs    97 non-null     float64\n",
      " 9   Amout Asked              97 non-null     object \n",
      " 10  Debt Invested            97 non-null     float64\n",
      " 11  Debt Asked               97 non-null     float64\n",
      " 12  Equity Taken %           97 non-null     float64\n",
      " 13  Equity Asked %           97 non-null     float64\n",
      " 14  Avg age                  97 non-null     object \n",
      " 15  Team members             97 non-null     float64\n",
      " 16  Ashneer Amount Invested  79 non-null     float64\n",
      " 17  Ashneer Equity Taken %   79 non-null     float64\n",
      " 18  Namita Amount Invested   85 non-null     float64\n",
      " 19  Namita Equity Taken %    85 non-null     float64\n",
      " 20  Anupam Amount Invested   96 non-null     float64\n",
      " 21  Anupam Equity Taken %    96 non-null     float64\n",
      " 22  Vineeta Amount Invested  53 non-null     float64\n",
      " 23  Vineeta Equity Taken %   54 non-null     float64\n",
      " 24  Aman Amount Invested     78 non-null     float64\n",
      " 25  Aman Equity Taken %      78 non-null     float64\n",
      " 26  Peyush Amount Invested   71 non-null     float64\n",
      " 27  Peyush Equity Taken %    71 non-null     float64\n",
      " 28  Ghazal Amount Invested   18 non-null     float64\n",
      " 29  Ghazal Equity Taken %    18 non-null     float64\n",
      " 30  Total investors          97 non-null     float64\n",
      " 31  Partners                 98 non-null     object \n",
      " 32  Unnamed: 32              98 non-null     int64  \n",
      " 33  Unnamed: 33              0 non-null      float64\n",
      " 34  Unnamed: 34              7 non-null      object \n",
      " 35  Unnamed: 35              8 non-null      object \n",
      " 36  Unnamed: 36              8 non-null      object \n",
      " 37  Unnamed: 37              8 non-null      object \n",
      " 38  Unnamed: 38              8 non-null      object \n",
      " 39  Unnamed: 39              8 non-null      object \n",
      " 40  Unnamed: 40              8 non-null      object \n",
      " 41  Unnamed: 41              8 non-null      object \n",
      "dtypes: float64(24), int64(2), object(16)\n",
      "memory usage: 32.3+ KB\n"
     ]
    }
   ],
   "source": [
    "df.info()"
   ]
  },
  {
   "cell_type": "markdown",
   "id": "549a6b6b-34f5-4c4c-9d1e-0e41dcb11d39",
   "metadata": {},
   "source": [
    "**DUPLICATE VALUES**"
   ]
  },
  {
   "cell_type": "code",
   "execution_count": 216,
   "id": "fe5f3385-b814-4a75-81e8-37187f1d4192",
   "metadata": {},
   "outputs": [
    {
     "data": {
      "text/plain": [
       "0"
      ]
     },
     "execution_count": 216,
     "metadata": {},
     "output_type": "execute_result"
    }
   ],
   "source": [
    "len(df[df.duplicated()])"
   ]
  },
  {
   "cell_type": "markdown",
   "id": "c59e03b1-d110-4d46-bae3-ee60222710a4",
   "metadata": {},
   "source": [
    "**MISSING/NULL VALUES**"
   ]
  },
  {
   "cell_type": "code",
   "execution_count": 217,
   "id": "2fb4a2bc-78a9-43d3-a39a-515d1ef82e26",
   "metadata": {},
   "outputs": [
    {
     "data": {
      "text/plain": [
       "Ep. No.                     0\n",
       "Brand                       0\n",
       "Male                        2\n",
       "Female                      2\n",
       "Location                    1\n",
       "Idea                        0\n",
       "Sector                      1\n",
       "Deal                        0\n",
       "Amount Invested lakhs       1\n",
       "Amout Asked                 1\n",
       "Debt Invested               1\n",
       "Debt Asked                  1\n",
       "Equity Taken %              1\n",
       "Equity Asked %              1\n",
       "Avg age                     1\n",
       "Team members                1\n",
       "Ashneer Amount Invested    19\n",
       "Ashneer Equity Taken %     19\n",
       "Namita Amount Invested     13\n",
       "Namita Equity Taken %      13\n",
       "Anupam Amount Invested      2\n",
       "Anupam Equity Taken %       2\n",
       "Vineeta Amount Invested    45\n",
       "Vineeta Equity Taken %     44\n",
       "Aman Amount Invested       20\n",
       "Aman Equity Taken %        20\n",
       "Peyush Amount Invested     27\n",
       "Peyush Equity Taken %      27\n",
       "Ghazal Amount Invested     80\n",
       "Ghazal Equity Taken %      80\n",
       "Total investors             1\n",
       "Partners                    0\n",
       "Unnamed: 32                 0\n",
       "Unnamed: 33                98\n",
       "Unnamed: 34                91\n",
       "Unnamed: 35                90\n",
       "Unnamed: 36                90\n",
       "Unnamed: 37                90\n",
       "Unnamed: 38                90\n",
       "Unnamed: 39                90\n",
       "Unnamed: 40                90\n",
       "Unnamed: 41                90\n",
       "dtype: int64"
      ]
     },
     "execution_count": 217,
     "metadata": {},
     "output_type": "execute_result"
    }
   ],
   "source": [
    "df.isnull().sum()"
   ]
  },
  {
   "cell_type": "markdown",
   "id": "961d6db6-6118-43c9-8b70-717960a6e412",
   "metadata": {},
   "source": [
    "**DATATYPE OF EACH COLUMN**"
   ]
  },
  {
   "cell_type": "code",
   "execution_count": 218,
   "id": "f9ab624b-53c0-4d33-9b87-85866a1500af",
   "metadata": {},
   "outputs": [
    {
     "data": {
      "text/plain": [
       "Ep. No.                      int64\n",
       "Brand                       object\n",
       "Male                       float64\n",
       "Female                     float64\n",
       "Location                    object\n",
       "Idea                        object\n",
       "Sector                      object\n",
       "Deal                        object\n",
       "Amount Invested lakhs      float64\n",
       "Amout Asked                 object\n",
       "Debt Invested              float64\n",
       "Debt Asked                 float64\n",
       "Equity Taken %             float64\n",
       "Equity Asked %             float64\n",
       "Avg age                     object\n",
       "Team members               float64\n",
       "Ashneer Amount Invested    float64\n",
       "Ashneer Equity Taken %     float64\n",
       "Namita Amount Invested     float64\n",
       "Namita Equity Taken %      float64\n",
       "Anupam Amount Invested     float64\n",
       "Anupam Equity Taken %      float64\n",
       "Vineeta Amount Invested    float64\n",
       "Vineeta Equity Taken %     float64\n",
       "Aman Amount Invested       float64\n",
       "Aman Equity Taken %        float64\n",
       "Peyush Amount Invested     float64\n",
       "Peyush Equity Taken %      float64\n",
       "Ghazal Amount Invested     float64\n",
       "Ghazal Equity Taken %      float64\n",
       "Total investors            float64\n",
       "Partners                    object\n",
       "Unnamed: 32                  int64\n",
       "Unnamed: 33                float64\n",
       "Unnamed: 34                 object\n",
       "Unnamed: 35                 object\n",
       "Unnamed: 36                 object\n",
       "Unnamed: 37                 object\n",
       "Unnamed: 38                 object\n",
       "Unnamed: 39                 object\n",
       "Unnamed: 40                 object\n",
       "Unnamed: 41                 object\n",
       "dtype: object"
      ]
     },
     "execution_count": 218,
     "metadata": {},
     "output_type": "execute_result"
    }
   ],
   "source": [
    "df.dtypes"
   ]
  },
  {
   "cell_type": "markdown",
   "id": "6d5e0e78-9526-4532-bf7c-addeae0a0bed",
   "metadata": {},
   "source": [
    "**WHAT DID YOU KNOW ABOUT YOUR DATASET?**\n",
    "\n",
    "\n",
    "THESE OBSERVATIONS CAN BE CONCLUDED FROM THE ABOVE ANALYSIS:\n",
    "* THERE ARE 98 OBSERVATIONS AND 42 COLUMNS WITH A MIXTURE OF INTEGER,FLOAT AND OBJECT DATATYPE\n",
    "* Amout Asked COLUMN IS OF OBJECT DATATYPE WE NEED TO CHANGE IT TO FLOAT DATATYPE\n",
    "* Unnamed: 32 HAVE MAXIMUM NULL VALUES SO WE HAVE TO DROP IT\n",
    "* Unnamed: 33 HAVE MAXIMUM NULL VALUES SO WE HAVE TO DROP IT\n",
    "* Unnamed: 34 HAVE MAXIMUM NULL VALUES SO WE HAVE TO DROP IT\n",
    "* Unnamed: 35 HAVE MAXIMUM NULL VALUES SO WE HAVE TO DROP IT\n",
    "* Unnamed: 36 HAVE MAXIMUM NULL VALUES SO WE HAVE TO DROP IT\n",
    "* Unnamed: 37 HAVE MAXIMUM NULL VALUES SO WE HAVE TO DROP IT\n",
    "* Unnamed: 38 HAVE MAXIMUM NULL VALUES SO WE HAVE TO DROP IT\n",
    "* Unnamed: 39 HAVE MAXIMUM NULL VALUES SO WE HAVE TO DROP IT\n",
    "* Unnamed: 40 HAVE MAXIMUM NULL VALUES SO WE HAVE TO DROP IT\n",
    "* Unnamed: 41 HAVE MAXIMUM NULL VALUES SO WE HAVE TO DROP IT"
   ]
  },
  {
   "cell_type": "markdown",
   "id": "24f259dc-5626-47e5-9ddf-b205fc302e1a",
   "metadata": {},
   "source": [
    "**DATA CLEANING**"
   ]
  },
  {
   "cell_type": "code",
   "execution_count": 219,
   "id": "110d5ed6-6e66-4829-9e88-398684195cd3",
   "metadata": {},
   "outputs": [],
   "source": [
    "df.drop(['Unnamed: 32','Unnamed: 33','Unnamed: 34','Unnamed: 35','Unnamed: 36','Unnamed: 37','Unnamed: 38','Unnamed: 39','Unnamed: 40','Unnamed: 41'],axis=1,inplace=True)"
   ]
  },
  {
   "cell_type": "code",
   "execution_count": 220,
   "id": "158da05d-a5b8-469b-ae27-91d81fc71bd9",
   "metadata": {},
   "outputs": [],
   "source": [
    "for col in df.select_dtypes(include='integer').columns:\n",
    "    df[col] = df[col].fillna(0)"
   ]
  },
  {
   "cell_type": "code",
   "execution_count": 221,
   "id": "a4b7c2ff-3ab5-4b6f-94b9-075541e7f761",
   "metadata": {},
   "outputs": [],
   "source": [
    "for col in df.select_dtypes(include='float').columns:\n",
    "    df[col] = df[col].fillna(0.0)"
   ]
  },
  {
   "cell_type": "code",
   "execution_count": 222,
   "id": "f7930b24-c05d-4a71-9bd2-d7bdab155247",
   "metadata": {},
   "outputs": [],
   "source": [
    "for col in df.select_dtypes(include='object').columns:\n",
    "    mode_val = df[col].mode()\n",
    "    if not mode_val.empty:\n",
    "        df[col] = df[col].fillna(mode_val[0])"
   ]
  },
  {
   "cell_type": "code",
   "execution_count": 223,
   "id": "2bbc2580-3ba9-4de0-a919-89989535c4a4",
   "metadata": {},
   "outputs": [],
   "source": [
    "df['Amout Asked']=df['Amout Asked'].str.replace(\"rs \",\"\")\n",
    "df['Sector']=df['Sector'].replace(\"food\",\"Food\") #we have to ignore Upper case and lowercase "
   ]
  },
  {
   "cell_type": "code",
   "execution_count": 224,
   "id": "49eced6c-7b90-4099-aa85-86f0e466bd9b",
   "metadata": {},
   "outputs": [],
   "source": [
    "df['Amout Asked']=df['Amout Asked'].astype(dtype=int)"
   ]
  },
  {
   "cell_type": "markdown",
   "id": "31577f8b-a784-48e3-a070-1d46e79c2c81",
   "metadata": {},
   "source": [
    "**UNDERSTANDING VARIABLES**"
   ]
  },
  {
   "cell_type": "code",
   "execution_count": 225,
   "id": "3aab39a3-dba9-4424-bf5c-bc23cc7df6ac",
   "metadata": {},
   "outputs": [
    {
     "data": {
      "text/html": [
       "<div>\n",
       "<style scoped>\n",
       "    .dataframe tbody tr th:only-of-type {\n",
       "        vertical-align: middle;\n",
       "    }\n",
       "\n",
       "    .dataframe tbody tr th {\n",
       "        vertical-align: top;\n",
       "    }\n",
       "\n",
       "    .dataframe thead th {\n",
       "        text-align: right;\n",
       "    }\n",
       "</style>\n",
       "<table border=\"1\" class=\"dataframe\">\n",
       "  <thead>\n",
       "    <tr style=\"text-align: right;\">\n",
       "      <th></th>\n",
       "      <th>Ep. No.</th>\n",
       "      <th>Male</th>\n",
       "      <th>Female</th>\n",
       "      <th>Amount Invested lakhs</th>\n",
       "      <th>Amout Asked</th>\n",
       "      <th>Debt Invested</th>\n",
       "      <th>Debt Asked</th>\n",
       "      <th>Equity Taken %</th>\n",
       "      <th>Equity Asked %</th>\n",
       "      <th>Team members</th>\n",
       "      <th>...</th>\n",
       "      <th>Anupam Equity Taken %</th>\n",
       "      <th>Vineeta Amount Invested</th>\n",
       "      <th>Vineeta Equity Taken %</th>\n",
       "      <th>Aman Amount Invested</th>\n",
       "      <th>Aman Equity Taken %</th>\n",
       "      <th>Peyush Amount Invested</th>\n",
       "      <th>Peyush Equity Taken %</th>\n",
       "      <th>Ghazal Amount Invested</th>\n",
       "      <th>Ghazal Equity Taken %</th>\n",
       "      <th>Total investors</th>\n",
       "    </tr>\n",
       "  </thead>\n",
       "  <tbody>\n",
       "    <tr>\n",
       "      <th>count</th>\n",
       "      <td>98.000000</td>\n",
       "      <td>98.000000</td>\n",
       "      <td>98.000000</td>\n",
       "      <td>98.000000</td>\n",
       "      <td>98.000000</td>\n",
       "      <td>98.000000</td>\n",
       "      <td>98.0</td>\n",
       "      <td>98.000000</td>\n",
       "      <td>98.000000</td>\n",
       "      <td>98.000000</td>\n",
       "      <td>...</td>\n",
       "      <td>98.000000</td>\n",
       "      <td>98.000000</td>\n",
       "      <td>98.000000</td>\n",
       "      <td>98.000000</td>\n",
       "      <td>98.000000</td>\n",
       "      <td>98.000000</td>\n",
       "      <td>98.000000</td>\n",
       "      <td>98.000000</td>\n",
       "      <td>98.000000</td>\n",
       "      <td>98.000000</td>\n",
       "    </tr>\n",
       "    <tr>\n",
       "      <th>mean</th>\n",
       "      <td>15.989796</td>\n",
       "      <td>1.418367</td>\n",
       "      <td>0.602041</td>\n",
       "      <td>34.918367</td>\n",
       "      <td>370.642857</td>\n",
       "      <td>3.071429</td>\n",
       "      <td>0.0</td>\n",
       "      <td>9.643673</td>\n",
       "      <td>5.209184</td>\n",
       "      <td>2.061224</td>\n",
       "      <td>...</td>\n",
       "      <td>1.558776</td>\n",
       "      <td>3.451633</td>\n",
       "      <td>1.214592</td>\n",
       "      <td>8.162551</td>\n",
       "      <td>1.492653</td>\n",
       "      <td>8.000306</td>\n",
       "      <td>3.360816</td>\n",
       "      <td>1.223776</td>\n",
       "      <td>0.415306</td>\n",
       "      <td>1.265306</td>\n",
       "    </tr>\n",
       "    <tr>\n",
       "      <th>std</th>\n",
       "      <td>8.604117</td>\n",
       "      <td>1.102233</td>\n",
       "      <td>0.637970</td>\n",
       "      <td>37.803255</td>\n",
       "      <td>3024.108857</td>\n",
       "      <td>12.563447</td>\n",
       "      <td>0.0</td>\n",
       "      <td>13.646271</td>\n",
       "      <td>4.196018</td>\n",
       "      <td>1.003256</td>\n",
       "      <td>...</td>\n",
       "      <td>4.082275</td>\n",
       "      <td>9.614899</td>\n",
       "      <td>3.902849</td>\n",
       "      <td>19.231954</td>\n",
       "      <td>4.577366</td>\n",
       "      <td>18.201053</td>\n",
       "      <td>11.250378</td>\n",
       "      <td>5.458070</td>\n",
       "      <td>2.188977</td>\n",
       "      <td>1.388844</td>\n",
       "    </tr>\n",
       "    <tr>\n",
       "      <th>min</th>\n",
       "      <td>1.000000</td>\n",
       "      <td>0.000000</td>\n",
       "      <td>0.000000</td>\n",
       "      <td>0.000000</td>\n",
       "      <td>5.000000</td>\n",
       "      <td>0.000000</td>\n",
       "      <td>0.0</td>\n",
       "      <td>0.000000</td>\n",
       "      <td>0.000000</td>\n",
       "      <td>0.000000</td>\n",
       "      <td>...</td>\n",
       "      <td>0.000000</td>\n",
       "      <td>0.000000</td>\n",
       "      <td>0.000000</td>\n",
       "      <td>0.000000</td>\n",
       "      <td>0.000000</td>\n",
       "      <td>0.000000</td>\n",
       "      <td>0.000000</td>\n",
       "      <td>0.000000</td>\n",
       "      <td>0.000000</td>\n",
       "      <td>0.000000</td>\n",
       "    </tr>\n",
       "    <tr>\n",
       "      <th>25%</th>\n",
       "      <td>9.000000</td>\n",
       "      <td>1.000000</td>\n",
       "      <td>0.000000</td>\n",
       "      <td>0.000000</td>\n",
       "      <td>50.000000</td>\n",
       "      <td>0.000000</td>\n",
       "      <td>0.0</td>\n",
       "      <td>0.000000</td>\n",
       "      <td>2.000000</td>\n",
       "      <td>1.000000</td>\n",
       "      <td>...</td>\n",
       "      <td>0.000000</td>\n",
       "      <td>0.000000</td>\n",
       "      <td>0.000000</td>\n",
       "      <td>0.000000</td>\n",
       "      <td>0.000000</td>\n",
       "      <td>0.000000</td>\n",
       "      <td>0.000000</td>\n",
       "      <td>0.000000</td>\n",
       "      <td>0.000000</td>\n",
       "      <td>0.000000</td>\n",
       "    </tr>\n",
       "    <tr>\n",
       "      <th>50%</th>\n",
       "      <td>16.500000</td>\n",
       "      <td>1.000000</td>\n",
       "      <td>1.000000</td>\n",
       "      <td>27.500000</td>\n",
       "      <td>50.000000</td>\n",
       "      <td>0.000000</td>\n",
       "      <td>0.0</td>\n",
       "      <td>3.250000</td>\n",
       "      <td>5.000000</td>\n",
       "      <td>2.000000</td>\n",
       "      <td>...</td>\n",
       "      <td>0.000000</td>\n",
       "      <td>0.000000</td>\n",
       "      <td>0.000000</td>\n",
       "      <td>0.000000</td>\n",
       "      <td>0.000000</td>\n",
       "      <td>0.000000</td>\n",
       "      <td>0.000000</td>\n",
       "      <td>0.000000</td>\n",
       "      <td>0.000000</td>\n",
       "      <td>1.000000</td>\n",
       "    </tr>\n",
       "    <tr>\n",
       "      <th>75%</th>\n",
       "      <td>23.000000</td>\n",
       "      <td>2.000000</td>\n",
       "      <td>1.000000</td>\n",
       "      <td>54.500000</td>\n",
       "      <td>80.000000</td>\n",
       "      <td>0.000000</td>\n",
       "      <td>0.0</td>\n",
       "      <td>15.000000</td>\n",
       "      <td>7.375000</td>\n",
       "      <td>2.750000</td>\n",
       "      <td>...</td>\n",
       "      <td>0.000000</td>\n",
       "      <td>0.000000</td>\n",
       "      <td>0.000000</td>\n",
       "      <td>0.000000</td>\n",
       "      <td>0.000000</td>\n",
       "      <td>0.000000</td>\n",
       "      <td>0.000000</td>\n",
       "      <td>0.000000</td>\n",
       "      <td>0.000000</td>\n",
       "      <td>2.000000</td>\n",
       "    </tr>\n",
       "    <tr>\n",
       "      <th>max</th>\n",
       "      <td>30.000000</td>\n",
       "      <td>6.000000</td>\n",
       "      <td>3.000000</td>\n",
       "      <td>150.000000</td>\n",
       "      <td>30000.000000</td>\n",
       "      <td>99.000000</td>\n",
       "      <td>0.0</td>\n",
       "      <td>75.000000</td>\n",
       "      <td>25.000000</td>\n",
       "      <td>6.000000</td>\n",
       "      <td>...</td>\n",
       "      <td>17.500000</td>\n",
       "      <td>50.000000</td>\n",
       "      <td>25.000000</td>\n",
       "      <td>100.000000</td>\n",
       "      <td>40.000000</td>\n",
       "      <td>100.000000</td>\n",
       "      <td>75.000000</td>\n",
       "      <td>33.330000</td>\n",
       "      <td>17.500000</td>\n",
       "      <td>5.000000</td>\n",
       "    </tr>\n",
       "  </tbody>\n",
       "</table>\n",
       "<p>8 rows × 25 columns</p>\n",
       "</div>"
      ],
      "text/plain": [
       "         Ep. No.       Male     Female  Amount Invested lakhs   Amout Asked  \\\n",
       "count  98.000000  98.000000  98.000000              98.000000     98.000000   \n",
       "mean   15.989796   1.418367   0.602041              34.918367    370.642857   \n",
       "std     8.604117   1.102233   0.637970              37.803255   3024.108857   \n",
       "min     1.000000   0.000000   0.000000               0.000000      5.000000   \n",
       "25%     9.000000   1.000000   0.000000               0.000000     50.000000   \n",
       "50%    16.500000   1.000000   1.000000              27.500000     50.000000   \n",
       "75%    23.000000   2.000000   1.000000              54.500000     80.000000   \n",
       "max    30.000000   6.000000   3.000000             150.000000  30000.000000   \n",
       "\n",
       "       Debt Invested  Debt Asked  Equity Taken %  Equity Asked %  \\\n",
       "count      98.000000        98.0       98.000000       98.000000   \n",
       "mean        3.071429         0.0        9.643673        5.209184   \n",
       "std        12.563447         0.0       13.646271        4.196018   \n",
       "min         0.000000         0.0        0.000000        0.000000   \n",
       "25%         0.000000         0.0        0.000000        2.000000   \n",
       "50%         0.000000         0.0        3.250000        5.000000   \n",
       "75%         0.000000         0.0       15.000000        7.375000   \n",
       "max        99.000000         0.0       75.000000       25.000000   \n",
       "\n",
       "       Team members  ...  Anupam Equity Taken %  Vineeta Amount Invested  \\\n",
       "count     98.000000  ...              98.000000                98.000000   \n",
       "mean       2.061224  ...               1.558776                 3.451633   \n",
       "std        1.003256  ...               4.082275                 9.614899   \n",
       "min        0.000000  ...               0.000000                 0.000000   \n",
       "25%        1.000000  ...               0.000000                 0.000000   \n",
       "50%        2.000000  ...               0.000000                 0.000000   \n",
       "75%        2.750000  ...               0.000000                 0.000000   \n",
       "max        6.000000  ...              17.500000                50.000000   \n",
       "\n",
       "       Vineeta Equity Taken %  Aman Amount Invested  Aman Equity Taken %  \\\n",
       "count               98.000000             98.000000            98.000000   \n",
       "mean                 1.214592              8.162551             1.492653   \n",
       "std                  3.902849             19.231954             4.577366   \n",
       "min                  0.000000              0.000000             0.000000   \n",
       "25%                  0.000000              0.000000             0.000000   \n",
       "50%                  0.000000              0.000000             0.000000   \n",
       "75%                  0.000000              0.000000             0.000000   \n",
       "max                 25.000000            100.000000            40.000000   \n",
       "\n",
       "       Peyush Amount Invested  Peyush Equity Taken %  Ghazal Amount Invested  \\\n",
       "count               98.000000              98.000000               98.000000   \n",
       "mean                 8.000306               3.360816                1.223776   \n",
       "std                 18.201053              11.250378                5.458070   \n",
       "min                  0.000000               0.000000                0.000000   \n",
       "25%                  0.000000               0.000000                0.000000   \n",
       "50%                  0.000000               0.000000                0.000000   \n",
       "75%                  0.000000               0.000000                0.000000   \n",
       "max                100.000000              75.000000               33.330000   \n",
       "\n",
       "       Ghazal Equity Taken %  Total investors  \n",
       "count              98.000000        98.000000  \n",
       "mean                0.415306         1.265306  \n",
       "std                 2.188977         1.388844  \n",
       "min                 0.000000         0.000000  \n",
       "25%                 0.000000         0.000000  \n",
       "50%                 0.000000         1.000000  \n",
       "75%                 0.000000         2.000000  \n",
       "max                17.500000         5.000000  \n",
       "\n",
       "[8 rows x 25 columns]"
      ]
     },
     "execution_count": 225,
     "metadata": {},
     "output_type": "execute_result"
    }
   ],
   "source": [
    "df.describe()"
   ]
  },
  {
   "cell_type": "code",
   "execution_count": 226,
   "id": "b33723a4-063a-4d80-87d1-260c04a79853",
   "metadata": {},
   "outputs": [
    {
     "data": {
      "text/plain": [
       "['Ep. No.',\n",
       " 'Brand',\n",
       " 'Male',\n",
       " 'Female',\n",
       " 'Location',\n",
       " 'Idea',\n",
       " 'Sector',\n",
       " 'Deal',\n",
       " 'Amount Invested lakhs',\n",
       " 'Amout Asked',\n",
       " 'Debt Invested',\n",
       " 'Debt Asked',\n",
       " 'Equity Taken %',\n",
       " 'Equity Asked %',\n",
       " 'Avg age',\n",
       " 'Team members',\n",
       " 'Ashneer Amount Invested',\n",
       " 'Ashneer Equity Taken %',\n",
       " 'Namita Amount Invested',\n",
       " 'Namita Equity Taken %',\n",
       " 'Anupam Amount Invested',\n",
       " 'Anupam Equity Taken %',\n",
       " 'Vineeta Amount Invested',\n",
       " 'Vineeta Equity Taken %',\n",
       " 'Aman Amount Invested',\n",
       " 'Aman Equity Taken %',\n",
       " 'Peyush Amount Invested',\n",
       " 'Peyush Equity Taken %',\n",
       " 'Ghazal Amount Invested',\n",
       " 'Ghazal Equity Taken %',\n",
       " 'Total investors',\n",
       " 'Partners']"
      ]
     },
     "execution_count": 226,
     "metadata": {},
     "output_type": "execute_result"
    }
   ],
   "source": [
    "df.columns.to_list()"
   ]
  },
  {
   "cell_type": "markdown",
   "id": "c6283b62-fa53-4085-89d1-2756160c9240",
   "metadata": {},
   "source": [
    "**VARIABLES DESCRIPTION**"
   ]
  },
  {
   "cell_type": "markdown",
   "id": "d45618cb-01a4-4d90-a1b9-a1e0bfabc9d8",
   "metadata": {},
   "source": [
    "* **Ep. No** : tells us about in which Serial Episode No. the Brand showcased their Presentation.\n",
    "* **Brand** : tells us about the Brand Name.\n",
    "* **Male** : number of Male Members in the Startup.\n",
    "* **Female** : number of Female Members in the Startup.\n",
    "* **Location** : tells us about the location where the Startup is situated.\n",
    "* **Idea** : tells us about the main Idea of the Startup.\n",
    "* **Sector** : tells us about the Category.\n",
    "* **Deal** : shows at what Amount and Equity the deal is made.\n",
    "* **Amount Invested lakhs** : tells us the Deal Amount.\n",
    "* **Amount Asked** : what is the asked Amount of Investment by the Founders.\n",
    "* **Debt Invested** : any Debt Amount Invested by the Sharks.\n",
    "* **Debt Asked** : any Debt Amount asked by the Founders.\n",
    "* **Equity Taken %** : total Percentage of Shares taken by the Sharks.\n",
    "* **Equity Asked** : total Percentage of Shares offered by the Founders.\n",
    "* **Avg age** : average age of the Founders.\n",
    "* **Team Members** : number of Team Members.\n",
    "* **Ashneer Amount Invested** : amount Invested by Shark Ashneer Grover(Former CEO of BharatPe) in the Startup.\n",
    "* **Ashneer Equity Taken %** : total share taken by Shark Ashneer Grover in the offer.\n",
    "* **Namita Amount Invested** : amount Invested by Shark Namita Thapar(Executive director of Emcure Pharmaceuticals) in the Startup.\n",
    "* **Namita Equity Taken %** : total share taken by Shark Namita Thapar in the offer.\n",
    "* **Anupam Amount Invested** : amount Invested by Shark Anupam Mittal(CEO of Shaadi.com) in the Startup.\n",
    "* **Anupam Equity Taken %** : total share taken by Shark Anupam Mittal in the offer.\n",
    "* **Vineeta Amount Invested**: amount Invested by Shark Vineeta Singh(CEO and Co-Founder of Sugar Cosmetics) in the Startup.\n",
    "* **Vineeta Equity Taken %** : total share taken by Shark Vineeta Singh in the offer.\n",
    "* **Aman Amount Invested** : amount Invested by Shark Aman Gupta(Co-Founder of Boat) in the Startup.\n",
    "* **Aman Equity Taken %** : total share taken by Shark Aman Gupta in the offer.\n",
    "* **Peyush Amount Invested** : amount Invested by Shark Peyush Goyal(CEO of Lenskart) in the Startup.\n",
    "* **Peyush Equity Taken %** : total share taken by Shark Peyush Goyal in the offer.\n",
    "* **Ghazal Amount Invested** : amount Invested by Shark Ghazal Alagh(Co-founder of Mamaearth and TheDermaCo) in the Startup.\n",
    "* **Ghazal Equity Taken %** : total share taken by Shark Ghazal Alagh in the offer.\n",
    "* **Total Investors** : total number of investor in the Startup.\n",
    "* **Partners** : group of Sharks which participated in the offer."
   ]
  },
  {
   "cell_type": "markdown",
   "id": "e4f9fbee-b187-4072-8300-9530230e8a4e",
   "metadata": {},
   "source": [
    "**CHECK UNIQUE VALUE FOR EACH VARIABLE**"
   ]
  },
  {
   "cell_type": "code",
   "execution_count": 227,
   "id": "faeb3755-1166-4c91-81ae-f5fa9aaf5189",
   "metadata": {},
   "outputs": [
    {
     "name": "stdout",
     "output_type": "stream",
     "text": [
      "Unique Values in  Ep. No.  :  30\n",
      "Unique Values in  Brand  :  98\n",
      "Unique Values in  Male  :  6\n",
      "Unique Values in  Female  :  4\n",
      "Unique Values in  Location  :  33\n",
      "Unique Values in  Idea  :  98\n",
      "Unique Values in  Sector  :  11\n",
      "Unique Values in  Deal  :  56\n",
      "Unique Values in  Amount Invested lakhs  :  20\n",
      "Unique Values in  Amout Asked  :  23\n",
      "Unique Values in  Debt Invested  :  7\n",
      "Unique Values in  Debt Asked  :  1\n",
      "Unique Values in  Equity Taken %  :  26\n",
      "Unique Values in  Equity Asked %  :  18\n",
      "Unique Values in  Avg age  :  8\n",
      "Unique Values in  Team members  :  7\n",
      "Unique Values in  Ashneer Amount Invested  :  11\n",
      "Unique Values in  Ashneer Equity Taken %  :  13\n",
      "Unique Values in  Namita Amount Invested  :  13\n",
      "Unique Values in  Namita Equity Taken %  :  15\n",
      "Unique Values in  Anupam Amount Invested  :  12\n",
      "Unique Values in  Anupam Equity Taken %  :  19\n",
      "Unique Values in  Vineeta Amount Invested  :  9\n",
      "Unique Values in  Vineeta Equity Taken %  :  11\n",
      "Unique Values in  Aman Amount Invested  :  14\n",
      "Unique Values in  Aman Equity Taken %  :  17\n",
      "Unique Values in  Peyush Amount Invested  :  17\n",
      "Unique Values in  Peyush Equity Taken %  :  17\n",
      "Unique Values in  Ghazal Amount Invested  :  5\n",
      "Unique Values in  Ghazal Equity Taken %  :  6\n",
      "Unique Values in  Total investors  :  6\n",
      "Unique Values in  Partners  :  33\n"
     ]
    }
   ],
   "source": [
    "for col in df.columns:\n",
    "    print(\"Unique Values in \",col,\" : \",len(df[col].unique()))"
   ]
  },
  {
   "cell_type": "markdown",
   "id": "5fcd0d78-43e7-421c-8b8d-dc1fbdff86ff",
   "metadata": {},
   "source": [
    "**DATA ANALYSIS**"
   ]
  },
  {
   "cell_type": "markdown",
   "id": "8a13ce0e-440b-4ab1-9aef-566866ae0a1e",
   "metadata": {},
   "source": [
    "**Which Sector has maximum number of Ideas?**"
   ]
  },
  {
   "cell_type": "code",
   "execution_count": 228,
   "id": "12dad75a-9b52-4839-9b58-6d32361bfe61",
   "metadata": {},
   "outputs": [
    {
     "data": {
      "text/plain": [
       "'Tourism'"
      ]
     },
     "execution_count": 228,
     "metadata": {},
     "output_type": "execute_result"
    }
   ],
   "source": [
    "df['Sector'].max()"
   ]
  },
  {
   "cell_type": "markdown",
   "id": "c278d1e2-e6e4-4dc4-aa4b-5cce4059e288",
   "metadata": {},
   "source": [
    "**OBSERVATION**\n",
    "\n",
    "From this we can conclude that Most of the Startups are from the Tourism Sector."
   ]
  },
  {
   "cell_type": "markdown",
   "id": "134a3e33-05b0-43da-a091-64a003c9bc4d",
   "metadata": {},
   "source": [
    "**In which sector maximum Investment has been done?**"
   ]
  },
  {
   "cell_type": "code",
   "execution_count": 229,
   "id": "fbfa704a-25ba-4f1a-936c-5355df386e64",
   "metadata": {},
   "outputs": [
    {
     "name": "stdout",
     "output_type": "stream",
     "text": [
      "Maximum Invested in Sector\n",
      "Food    910.0\n",
      "Name: Amount Invested lakhs, dtype: float64\n"
     ]
    }
   ],
   "source": [
    "amt=df.groupby('Sector')['Amount Invested lakhs'].sum()\n",
    "sector=amt[amt==amt.max()]\n",
    "print(\"Maximum Invested in\",sector)"
   ]
  },
  {
   "cell_type": "markdown",
   "id": "42ae3977-e90e-4b2b-a5d6-81860bcdaac5",
   "metadata": {},
   "source": [
    "**OBSERVATION**\n",
    "\n",
    "Food Sector received the Maximum Investment with Total of 9.1 Crore Rupees."
   ]
  },
  {
   "cell_type": "markdown",
   "id": "7a1a4284-9aec-44e0-9904-7c3aa50dc075",
   "metadata": {},
   "source": [
    "**Which Shark has made the most Investment?**"
   ]
  },
  {
   "cell_type": "code",
   "execution_count": 230,
   "id": "e55e741b-e407-46be-bf5b-c1592c405633",
   "metadata": {},
   "outputs": [
    {
     "name": "stdout",
     "output_type": "stream",
     "text": [
      "Aman Amount Invested  :  799.93\n"
     ]
    }
   ],
   "source": [
    "a = { i:sum(df[i]) for i in df.iloc[:,16:30:2] }\n",
    "for i,j in a.items():\n",
    "    if j==max(a.values()):\n",
    "        print(i,\" : \",j)"
   ]
  },
  {
   "cell_type": "markdown",
   "id": "7e77c271-7324-41c2-bc3f-5de292324a20",
   "metadata": {},
   "source": [
    "**OBSERVATION**\n",
    "\n",
    "Aman(CEO of Boat) has made the Maximum Investment of approx 8 Crore Rupees. "
   ]
  },
  {
   "cell_type": "markdown",
   "id": "d9227afe-7dba-458b-87fa-7ff0834598a2",
   "metadata": {},
   "source": [
    "**Which sector has been most preferred by each Shark?**"
   ]
  },
  {
   "cell_type": "code",
   "execution_count": 231,
   "id": "c3a01821-fb27-41e5-b978-3a3af83c438d",
   "metadata": {},
   "outputs": [
    {
     "name": "stdout",
     "output_type": "stream",
     "text": [
      "Sector preferred by Ashneer : Food\n",
      "Sector preferred by Namita : Clothes\n",
      "Sector preferred by Anupam : Clothes\n",
      "Sector preferred by Vineeta : Food\n",
      "Sector preferred by Aman : Food\n",
      "Sector preferred by Peyush : Health\n",
      "Sector preferred by Ghazal : Lifestyle\n"
     ]
    }
   ],
   "source": [
    "b = { i:(df[df[i]>0]['Sector'].unique(),df[df[i]>0]['Sector'].value_counts()) for i in df.iloc[:,16:30:2]}\n",
    "for i,j in b.items():\n",
    "    print(\"Sector preferred by\",i.split(\" \")[0],\":\",j[0][0])"
   ]
  },
  {
   "cell_type": "markdown",
   "id": "74289737-fab4-439d-bfd3-b23c751c9a14",
   "metadata": {},
   "source": [
    "**OBSERVATION**\n",
    "\n",
    "This tells us the Most Preferred Sector by each Shark.\n",
    "In this we observe that :\n",
    "* **Ashneer** preferred Mostly the Food Sector.\n",
    "* **Namita** preferred Mostly the Clothes Sector.\n",
    "* **Anupam** also preferred Mostly the Clothes Sector.\n",
    "* **Vineeta** also preferred Mostly the Food Sector.\n",
    "* **Aman** also preferred Mostly the Food Sector.\n",
    "* **Peyush** preferred Mostly the Health Sector.\n",
    "* **Ghazal** preferred Mostly the Lifestyle Sector."
   ]
  },
  {
   "cell_type": "markdown",
   "id": "2ac86515-b710-4261-8c7c-2b270432f00d",
   "metadata": {},
   "source": [
    "**What is the average equity taken by each Shark?**"
   ]
  },
  {
   "cell_type": "code",
   "execution_count": 232,
   "id": "cf5acfd8-3d8b-4f3f-8c5e-5f13518b35c8",
   "metadata": {},
   "outputs": [
    {
     "name": "stdout",
     "output_type": "stream",
     "text": [
      "Average Equity Taken by Ashneer : 0.7181972789115646\n",
      "Average Equity Taken by Namita : 1.0209183673469386\n",
      "Average Equity Taken by Anupam : 1.5587755102040814\n",
      "Average Equity Taken by Vineeta : 1.214591836734694\n",
      "Average Equity Taken by Aman : 1.4926530612244897\n",
      "Average Equity Taken by Peyush : 3.3608163265306117\n",
      "Average Equity Taken by Ghazal : 0.41530612244897963\n"
     ]
    }
   ],
   "source": [
    "c = { i:df[i].mean() for i in df.iloc[:,17:31:2]}\n",
    "for i,j in c.items():\n",
    "    print(\"Average Equity Taken by\",i.split(\" \")[0],\":\",j)"
   ]
  },
  {
   "cell_type": "markdown",
   "id": "0950f5f7-d235-48e7-a8d5-426fc91c37fe",
   "metadata": {},
   "source": [
    "**OBSERVATION**\n",
    "\n",
    "This tells us about the Average Equity taken by Each Shark over all the Pitches.\n",
    "\n",
    "* **Ashneer** taken approximately 0.8% Equity.\n",
    "* **Namita** taken approximately 1.1% Equity.\n",
    "* **Anupam** taken approximately 1.6% Equity.\n",
    "* **Vineeta** taken approximately 1.3% Equity.\n",
    "* **Aman** taken approximately 1.5% Equity.\n",
    "* **Peyush** taken approximately 3.4% Equity.\n",
    "* **Ghazal** taken approximately 0.5% Equity.\n",
    "\n",
    "**Peyush** has taken the Highest Avg. Equity."
   ]
  },
  {
   "cell_type": "markdown",
   "id": "2e3ba993-99ad-41ed-ae22-7851726cf338",
   "metadata": {},
   "source": [
    "**What Amount has been Invested by each Shark?**"
   ]
  },
  {
   "cell_type": "code",
   "execution_count": 233,
   "id": "61f09366-1697-4aa9-8182-d610ca25e560",
   "metadata": {},
   "outputs": [
    {
     "name": "stdout",
     "output_type": "stream",
     "text": [
      "Total Amount Invested by Ashneer : 560.83\n",
      "Total Amount Invested by Namita : 595.8\n",
      "Total Amount Invested by Anupam : 518.8\n",
      "Total Amount Invested by Vineeta : 338.26\n",
      "Total Amount Invested by Aman : 799.93\n",
      "Total Amount Invested by Peyush : 784.03\n",
      "Total Amount Invested by Ghazal : 119.93\n"
     ]
    }
   ],
   "source": [
    "d = { i:sum(df[i]) for i in df.iloc[:,16:30:2] }\n",
    "for i,j in d.items():\n",
    "    print(\"Total Amount Invested by\",i.split(\" \")[0],\":\",j)"
   ]
  },
  {
   "cell_type": "markdown",
   "id": "9aa7c7a3-476c-4c6b-a9f6-e0ea46b9db8a",
   "metadata": {},
   "source": [
    "**OBSERVATION**\n",
    "\n",
    "This tells us about the Total Amount Invested by each Shark.\n",
    "\n",
    "* **Ashneer** totally invested 5.6 Crore.\n",
    "* **Namita** totally invested 5.9 Crore.\n",
    "* **Anupam** totally invested 5.1 Crore.\n",
    "* **Vineeta** totally invested 3.3 Crore.\n",
    "* **Aman** totally invested 7.9 Crore.\n",
    "* **Peyush** totally invested 7.8 Crore.\n",
    "* **Ghazal** totally invested 1.1 Crore.\n",
    "\n",
    "**Aman** has Invested the Highest Amount."
   ]
  },
  {
   "cell_type": "markdown",
   "id": "bfc91297-5150-472d-be79-0564528d8fd7",
   "metadata": {},
   "source": [
    "**Find the correlation between Female and Sector.**"
   ]
  },
  {
   "cell_type": "markdown",
   "id": "2e867b5e-1ab8-4371-ad0b-9b2e053883dd",
   "metadata": {},
   "source": [
    "For calculating Correlation we first have to convert Sector(dtype=string) to numeric because \n",
    "correlation is calculated when we have numeric data type."
   ]
  },
  {
   "cell_type": "code",
   "execution_count": 234,
   "id": "00ba0872-0461-4395-ad24-c075da570fdc",
   "metadata": {},
   "outputs": [
    {
     "name": "stdout",
     "output_type": "stream",
     "text": [
      "Correlation:  0.033438668636780175\n"
     ]
    }
   ],
   "source": [
    "df['Sector_Code'] = df['Sector'].astype('category').cat.codes\n",
    "correlation = df['Female'].corr(df['Sector_Code'])\n",
    "print(\"Correlation: \",correlation)"
   ]
  },
  {
   "cell_type": "markdown",
   "id": "f4c27f8b-7ccd-41f2-9c1d-dea476f579e4",
   "metadata": {},
   "source": [
    "**OBSERVATION**\n",
    "\n",
    "The presence of female founders does not strongly depend on the sector."
   ]
  },
  {
   "cell_type": "markdown",
   "id": "0ce432b0-0842-43a3-8c54-b5e89586e10a",
   "metadata": {},
   "source": [
    "**What is the Average Amount asked for Investment?**"
   ]
  },
  {
   "cell_type": "code",
   "execution_count": 235,
   "id": "d490bf1d-0959-4a29-82d2-6d711bb54092",
   "metadata": {},
   "outputs": [
    {
     "name": "stdout",
     "output_type": "stream",
     "text": [
      "Average Amount asked in Automobile : 58.33\n",
      "Average Amount asked in Clothes : 62.5\n",
      "Average Amount asked in Education : 50.0\n",
      "Average Amount asked in Entertainment : 80.0\n",
      "Average Amount asked in Finance : 100.0\n",
      "Average Amount asked in Food : 972.12\n",
      "Average Amount asked in Health : 69.67\n",
      "Average Amount asked in Lifestyle : 66.21\n",
      "Average Amount asked in Safety : 50.0\n",
      "Average Amount asked in Technology : 61.89\n",
      "Average Amount asked in Tourism : 50.0\n"
     ]
    }
   ],
   "source": [
    "e = df.groupby(\"Sector\")\n",
    "for i,j in e:\n",
    "    print(\"Average Amount asked in\",i,\":\",round(j['Amout Asked'].mean(),2))"
   ]
  },
  {
   "cell_type": "markdown",
   "id": "9e657ac5-0c3b-4d2b-98ba-6f3a62a4be7f",
   "metadata": {},
   "source": [
    "**OBSERVATION**\n",
    "\n",
    "This tells us the Average Amount Asked in each Sector.\n",
    "\n",
    "* In the **Automobile** Sector Average Amount asked by the Founders is 58 Lakhs.\n",
    "* In the **Clothes** Sector Average Amount asked by the Founders is 62 Lakhs.\n",
    "* In the **Education** Sector Average Amount asked by the Founders is 50 Lakhs.\n",
    "* In the **Entertainment** Sector Average Amount asked by the Founders is 80 Lakhs.\n",
    "* In the **Finance** Sector Average Amount asked by the Founders is 1 Crore.\n",
    "* In the **Food** Sector Average Amount asked by the Founders is 9 Crore.\n",
    "* In the **Health** Sector Average Amount asked by the Founders is 69 Lakhs.\n",
    "* In the **Lifestyle** Sector Average Amount asked by the Founders is 66 Lakhs.\n",
    "* In the **Safety** Sector Average Amount asked by the Founders is 50 Lakhs.\n",
    "* In the **Technology** Sector Average Amount asked by the Founders is 61 Lakhs.\n",
    "* In the **Tourism** Sector Average Amount asked by the Founders is 50 Lakhs."
   ]
  },
  {
   "cell_type": "markdown",
   "id": "8aed68ed-22c5-4898-9595-f4f591d591ca",
   "metadata": {},
   "source": [
    "**How often does a Startup receive what they asked for?**"
   ]
  },
  {
   "cell_type": "code",
   "execution_count": 247,
   "id": "3dceaddf-1152-451c-9279-88d8ca630ffd",
   "metadata": {},
   "outputs": [
    {
     "name": "stdout",
     "output_type": "stream",
     "text": [
      "No. of Times Startup received what they asked for: 3\n"
     ]
    }
   ],
   "source": [
    "f = list(map(lambda x,y,z,s: True if x==y and z==s else False,df[\"Equity Taken %\"],df[\"Equity Asked %\"],df['Amout Asked'],df['Amount Invested lakhs']))\n",
    "print(\"No. of Times Startup received what they asked for:\" ,f.count(True))"
   ]
  },
  {
   "cell_type": "markdown",
   "id": "acf9d74c-9714-48d7-a160-1c98bf895163",
   "metadata": {},
   "source": [
    "**OBSERVATION**\n",
    "\n",
    "Only 3 deals were completely made at the Amount asked and Equity % that are given by the Founders."
   ]
  },
  {
   "cell_type": "markdown",
   "id": "37090959-29bd-43e1-9e39-152d7bdb0e4d",
   "metadata": {},
   "source": [
    "**Which Shark is most willing to take Risk?**"
   ]
  },
  {
   "cell_type": "code",
   "execution_count": 259,
   "id": "fb3b5b9c-952b-4167-9c83-f53cce4aabe7",
   "metadata": {},
   "outputs": [
    {
     "name": "stdout",
     "output_type": "stream",
     "text": [
      "Most Risk taking Shark is Aman with total of 24 Deals.\n",
      "Most Risk taking Shark is Peyush with total of 24 Deals.\n"
     ]
    }
   ],
   "source": [
    "g = { i : len(df[df[i]>0][i]) for i in df.iloc[:,16:30:2]}\n",
    "for i,j in g.items():\n",
    "    if j == max(g.values()) :\n",
    "        print(\"Most Risk taking Shark is\",i.split(\" \")[0],\"with total of\",j,\"Deals.\")"
   ]
  },
  {
   "cell_type": "markdown",
   "id": "76e33a95-a561-48e8-85f5-84505bd72990",
   "metadata": {},
   "source": [
    "**OBSERVATION**\n",
    "\n",
    "The Shark with Maximum number of Deals has the Maximum Risk.\n",
    "\n",
    "**Aman** and **Peyush** made the Maximum deals , therefore they have the maximum risk."
   ]
  },
  {
   "cell_type": "markdown",
   "id": "957fd835-3354-4725-b106-1e5943a77bd6",
   "metadata": {},
   "source": [
    "**How many Startups has not received any Investment?**"
   ]
  },
  {
   "cell_type": "code",
   "execution_count": 260,
   "id": "4325ee36-4e74-4dbf-9c54-ed2cf5c99886",
   "metadata": {},
   "outputs": [
    {
     "data": {
      "text/plain": [
       "41"
      ]
     },
     "execution_count": 260,
     "metadata": {},
     "output_type": "execute_result"
    }
   ],
   "source": [
    "len(df[df['Amount Invested lakhs']==0])"
   ]
  },
  {
   "cell_type": "markdown",
   "id": "556ea8aa-ef2f-4439-bcaf-a9b4c6bb2bff",
   "metadata": {},
   "source": [
    "**OBSERVATION** \n",
    "\n",
    "There are 41 Startups which didn't get any Deal and failed to receive any Offer.\n",
    "\n",
    "41 Startups were failed at getting any Offer."
   ]
  },
  {
   "cell_type": "markdown",
   "id": "89ed81b2-49ca-494c-ad4d-c7dddca512b5",
   "metadata": {},
   "source": [
    "**What is the maximum difference between Amount Invested and Amount Asked?**"
   ]
  },
  {
   "cell_type": "code",
   "execution_count": 292,
   "id": "3c7d0208-579f-4879-bf85-b1721b22d67c",
   "metadata": {},
   "outputs": [
    {
     "name": "stdout",
     "output_type": "stream",
     "text": [
      "Gopal's 56 : 30000.0\n"
     ]
    }
   ],
   "source": [
    "h = list(map(lambda x,y : abs(x-y) , df['Amount Invested lakhs'],df['Amout Asked']))\n",
    "x = max(h)\n",
    "print(df.iloc[h.index(x)]['Brand'],\":\",x)"
   ]
  },
  {
   "cell_type": "markdown",
   "id": "d3136f09-d7b3-4363-99e5-4b70cc7a8b54",
   "metadata": {},
   "source": [
    "**What is the maximum Investment done by each Shark?**"
   ]
  },
  {
   "cell_type": "code",
   "execution_count": 293,
   "id": "905d8a10-1fe6-45df-bc80-3ff753441ffe",
   "metadata": {},
   "outputs": [
    {
     "data": {
      "text/plain": [
       "Ashneer Amount Invested    100.00\n",
       "Namita Amount Invested      75.00\n",
       "Anupam Amount Invested      50.00\n",
       "Vineeta Amount Invested     50.00\n",
       "Aman Amount Invested       100.00\n",
       "Peyush Amount Invested     100.00\n",
       "Ghazal Amount Invested      33.33\n",
       "dtype: float64"
      ]
     },
     "execution_count": 293,
     "metadata": {},
     "output_type": "execute_result"
    }
   ],
   "source": [
    "df.iloc[:,16:30:2].max()"
   ]
  },
  {
   "cell_type": "markdown",
   "id": "81e57e51-3884-468a-9484-1228f410a034",
   "metadata": {},
   "source": [
    "**OBSERVATION**\n",
    "\n",
    "This shows us the Maximum Amount Invested by each Shark in different Pitches.\n",
    "* **Ashneer** Invested an maximum Amount of 1 Crore.\n",
    "* **Namita** Invested an maximum Amount of 75 Lakhs.\n",
    "* **Anupam** Invested an maximum Amount of 50 Lakhs.\n",
    "* **Vineeta** Invested an maximum Amount of 50 Lakhs.\n",
    "* **Aman** Invested an maximum Amount of 1 Crore.\n",
    "* **Peyush** Invested an maximum Amount of 1 Crore.\n",
    "* **Ghazal** Invested an maximum Amount of 33 Lakhs.\n",
    "\n",
    "\n",
    "**Ashneer** , **Aman** , **Peyush** Invested the Maximum Amount among all the Sharks."
   ]
  },
  {
   "cell_type": "markdown",
   "id": "264c8155-6651-424d-8753-4b031e661701",
   "metadata": {},
   "source": [
    "**What percentage of pitches resulted in a deal?**"
   ]
  },
  {
   "cell_type": "code",
   "execution_count": 302,
   "id": "f1eef656-dd2c-4333-9735-8d63d14a195d",
   "metadata": {},
   "outputs": [
    {
     "name": "stdout",
     "output_type": "stream",
     "text": [
      "Percentage of Deal done: 59.18 %\n"
     ]
    }
   ],
   "source": [
    "deals_done = len(df[df['Deal']!='No Deal'])\n",
    "total_deals = len(df['Deal'])\n",
    "print(\"Percentage of Deal done:\",round((deals_done/total_deals)*100,2),\"%\")"
   ]
  },
  {
   "cell_type": "markdown",
   "id": "d2cee3b8-45c7-4ca8-a617-cb65986b8188",
   "metadata": {},
   "source": [
    "**OBSERVATION**\n",
    "\n",
    "This shows the percentage of Deals done or we can say chances of getting an offer.\n",
    "\n",
    "Almost 60% Brands got offer which is good and 40% of the Brand didn't get any offer."
   ]
  },
  {
   "cell_type": "markdown",
   "id": "57b0d286-7054-4401-bb50-1a817883bb1f",
   "metadata": {},
   "source": [
    "**How many Deals involved zero Equity?**"
   ]
  },
  {
   "cell_type": "code",
   "execution_count": 308,
   "id": "f2ecc6f1-bb65-45b3-8e0c-ed3eb5b548ab",
   "metadata": {},
   "outputs": [
    {
     "name": "stdout",
     "output_type": "stream",
     "text": [
      "85    Watt Technovations\n",
      "Name: Brand, dtype: object\n"
     ]
    }
   ],
   "source": [
    "print(df[df['Equity Asked %']==0.0]['Brand'])"
   ]
  },
  {
   "cell_type": "markdown",
   "id": "63295b20-d117-45df-8eca-06fd71a34d61",
   "metadata": {},
   "source": [
    "**OBSERVATION**\n",
    "\n",
    "This shows that there is company named as **Watt Technovations** which has asked for offer without offering any Equity."
   ]
  },
  {
   "cell_type": "markdown",
   "id": "4e5ffb8a-fe01-4587-859d-2081780ff4c6",
   "metadata": {},
   "source": [
    "**Which Cities/States had the most Startups?**"
   ]
  },
  {
   "cell_type": "code",
   "execution_count": 363,
   "id": "00f1dc4c-e505-4e15-81c0-3060307ba961",
   "metadata": {},
   "outputs": [
    {
     "data": {
      "text/plain": [
       "Location\n",
       "Delhi     15\n",
       "Mumbai    13\n",
       "Name: count, dtype: int64"
      ]
     },
     "execution_count": 363,
     "metadata": {},
     "output_type": "execute_result"
    }
   ],
   "source": [
    "df['Location'].value_counts().head(2)"
   ]
  },
  {
   "cell_type": "markdown",
   "id": "e801c603-dbf5-4468-b856-44a602a65c7c",
   "metadata": {},
   "source": [
    "**OBSERVATION**\n",
    "\n",
    "This shows that which City/State has given rise to Maximum no. of Startups.\n",
    "\n",
    "* **Delhi** has the maximum number of Startups.\n",
    "* **Mumbai** is the City with second maximum number of Startups."
   ]
  },
  {
   "cell_type": "markdown",
   "id": "b47dcf70-a664-49c2-ac1a-895672f9cfdb",
   "metadata": {},
   "source": [
    "**Which Shark has taken the Highest Equity taken per Deal?**"
   ]
  },
  {
   "cell_type": "code",
   "execution_count": 322,
   "id": "c2789f38-3a4f-411b-a925-1157193699d1",
   "metadata": {},
   "outputs": [
    {
     "data": {
      "text/plain": [
       "Ashneer Equity Taken %    25.0\n",
       "Namita Equity Taken %     20.0\n",
       "Anupam Equity Taken %     17.5\n",
       "Vineeta Equity Taken %    25.0\n",
       "Aman Equity Taken %       40.0\n",
       "Peyush Equity Taken %     75.0\n",
       "Ghazal Equity Taken %     17.5\n",
       "dtype: float64"
      ]
     },
     "execution_count": 322,
     "metadata": {},
     "output_type": "execute_result"
    }
   ],
   "source": [
    "df.iloc[:,17:31:2].max()"
   ]
  },
  {
   "cell_type": "markdown",
   "id": "6620eba8-63c8-4ee3-959b-66cc5d7db52f",
   "metadata": {},
   "source": [
    "**OBSERVATION** \n",
    "\n",
    "This tells us that how much of Maximum Equity was taken per Deal by each Shark.\n",
    "\n",
    "* **Peyush** has taken 75% Equity in a Deal which is the Highest Equity Taken among all the Sharks.\n",
    "* **Aman** has taken 40% Equity in a Deal which is the Second Highest Equity Taken among all the Sharks."
   ]
  },
  {
   "cell_type": "markdown",
   "id": "ace058cf-2734-481e-b4b9-6fe257274bd7",
   "metadata": {},
   "source": [
    "**How many total Successful Pitches were made?**"
   ]
  },
  {
   "cell_type": "code",
   "execution_count": 323,
   "id": "54d3bc83-d631-4218-92ab-db8cf1cb7ff3",
   "metadata": {},
   "outputs": [
    {
     "data": {
      "text/plain": [
       "58"
      ]
     },
     "execution_count": 323,
     "metadata": {},
     "output_type": "execute_result"
    }
   ],
   "source": [
    "len(df[df['Deal']!='No Deal'])"
   ]
  },
  {
   "cell_type": "markdown",
   "id": "f8fc8ec2-9c11-4351-a0d4-197106d47284",
   "metadata": {},
   "source": [
    "**OBSERVATION**\n",
    "\n",
    "This shows that how many got the Deal successfully among all the Pitches made in the Season.\n",
    "    \n",
    "Total 58 Companies got their Offer Successfully among 98 Companies which is a good number of Success."
   ]
  },
  {
   "cell_type": "markdown",
   "id": "187a710c-99d8-457a-ae91-50fd38fc344f",
   "metadata": {},
   "source": [
    "**What is the Biggest Single Deal made?**"
   ]
  },
  {
   "cell_type": "code",
   "execution_count": 354,
   "id": "96e88403-9f5b-43d1-8ce8-d6f73d9e0409",
   "metadata": {},
   "outputs": [
    {
     "name": "stdout",
     "output_type": "stream",
     "text": [
      "                 Brand  Amount Invested lakhs\n",
      "42    Hammer Lifestyle                  100.0\n",
      "87  Insurance Samadhan                  100.0\n"
     ]
    }
   ],
   "source": [
    "sd = df[df['Total investors']==1]\n",
    "max_value = sd[sd['Amount Invested lakhs']==sd['Amount Invested lakhs'].max()]\n",
    "print(max_value[['Brand','Amount Invested lakhs']])"
   ]
  },
  {
   "cell_type": "markdown",
   "id": "d5c4694e-5756-4285-8baf-0b4d318a0c38",
   "metadata": {},
   "source": [
    "**OBSERVATION**\n",
    "\n",
    "This shows us the Biggest Deal Made by a Single Shark .\n",
    "* **Hammer Lifestyle** got the Biggest Investment by a Single Shark.\n",
    "* **Insurance Samadhan** also got the Biggest Investment by a Single Shark."
   ]
  },
  {
   "cell_type": "markdown",
   "id": "580924c5-0d7e-4c3c-98aa-680d057f9a19",
   "metadata": {},
   "source": [
    "**Which Sector has least Amount Invested?**"
   ]
  },
  {
   "cell_type": "code",
   "execution_count": 359,
   "id": "de5f60d8-b9d7-4f8f-9bc9-ef32e5620f2a",
   "metadata": {},
   "outputs": [
    {
     "data": {
      "text/plain": [
       "55    Automobile\n",
       "Name: Sector, dtype: object"
      ]
     },
     "execution_count": 359,
     "metadata": {},
     "output_type": "execute_result"
    }
   ],
   "source": [
    "nd = df[df['Amount Invested lakhs']>0.0]\n",
    "nd[nd['Amount Invested lakhs']==nd['Amount Invested lakhs'].min()]['Sector']"
   ]
  },
  {
   "cell_type": "markdown",
   "id": "b7b4ad24-78bc-4ffb-8459-89cab7edcdf5",
   "metadata": {},
   "source": [
    "**OBSERVATION**\n",
    "\n",
    "This shows us that the Automobile Sector is least preferred by each Shark and also has given the least Investment."
   ]
  },
  {
   "cell_type": "code",
   "execution_count": 364,
   "id": "80ef79f6-7cd6-49bf-8e73-0acdc50e2403",
   "metadata": {},
   "outputs": [
    {
     "name": "stdout",
     "output_type": "stream",
     "text": [
      "<class 'pandas.core.frame.DataFrame'>\n",
      "RangeIndex: 98 entries, 0 to 97\n",
      "Data columns (total 33 columns):\n",
      " #   Column                   Non-Null Count  Dtype  \n",
      "---  ------                   --------------  -----  \n",
      " 0   Ep. No.                  98 non-null     int64  \n",
      " 1   Brand                    98 non-null     object \n",
      " 2   Male                     98 non-null     float64\n",
      " 3   Female                   98 non-null     float64\n",
      " 4   Location                 98 non-null     object \n",
      " 5   Idea                     98 non-null     object \n",
      " 6   Sector                   98 non-null     object \n",
      " 7   Deal                     98 non-null     object \n",
      " 8   Amount Invested lakhs    98 non-null     float64\n",
      " 9   Amout Asked              98 non-null     int32  \n",
      " 10  Debt Invested            98 non-null     float64\n",
      " 11  Debt Asked               98 non-null     float64\n",
      " 12  Equity Taken %           98 non-null     float64\n",
      " 13  Equity Asked %           98 non-null     float64\n",
      " 14  Avg age                  98 non-null     object \n",
      " 15  Team members             98 non-null     float64\n",
      " 16  Ashneer Amount Invested  98 non-null     float64\n",
      " 17  Ashneer Equity Taken %   98 non-null     float64\n",
      " 18  Namita Amount Invested   98 non-null     float64\n",
      " 19  Namita Equity Taken %    98 non-null     float64\n",
      " 20  Anupam Amount Invested   98 non-null     float64\n",
      " 21  Anupam Equity Taken %    98 non-null     float64\n",
      " 22  Vineeta Amount Invested  98 non-null     float64\n",
      " 23  Vineeta Equity Taken %   98 non-null     float64\n",
      " 24  Aman Amount Invested     98 non-null     float64\n",
      " 25  Aman Equity Taken %      98 non-null     float64\n",
      " 26  Peyush Amount Invested   98 non-null     float64\n",
      " 27  Peyush Equity Taken %    98 non-null     float64\n",
      " 28  Ghazal Amount Invested   98 non-null     float64\n",
      " 29  Ghazal Equity Taken %    98 non-null     float64\n",
      " 30  Total investors          98 non-null     float64\n",
      " 31  Partners                 98 non-null     object \n",
      " 32  Sector_Code              98 non-null     int8   \n",
      "dtypes: float64(23), int32(1), int64(1), int8(1), object(7)\n",
      "memory usage: 24.3+ KB\n"
     ]
    }
   ],
   "source": [
    "df.info()"
   ]
  },
  {
   "cell_type": "markdown",
   "id": "c1196900-868c-440b-ad21-6536127e44de",
   "metadata": {},
   "source": [
    "**PLOTING HISTOGRAM**"
   ]
  },
  {
   "cell_type": "code",
   "execution_count": 383,
   "id": "5bca0ed4-bd18-4880-82a3-fb192f16453c",
   "metadata": {},
   "outputs": [
    {
     "data": {
      "image/png": "[encoded data removed]",
      "text/plain": [
       "<Figure size 640x480 with 1 Axes>"
      ]
     },
     "metadata": {},
     "output_type": "display_data"
    }
   ],
   "source": [
    "cols = df.select_dtypes(include=['int64', 'float64']).columns.to_list()\n",
    "for col in cols:\n",
    "    df[col].plot.hist()"
   ]
  },
  {
   "cell_type": "markdown",
   "id": "65b1c0e0-327d-4dae-9e93-fe7c35330810",
   "metadata": {},
   "source": [
    "**HISTOGRAM PLOTED BETWEEN THE AMOUNT INVESTED BY EACH SHARKS**"
   ]
  },
  {
   "cell_type": "code",
   "execution_count": 385,
   "id": "19a9f303-ba57-461e-901c-4243270d9fe3",
   "metadata": {},
   "outputs": [
    {
     "data": {
      "text/plain": [
       "<Axes: ylabel='Frequency'>"
      ]
     },
     "execution_count": 385,
     "metadata": {},
     "output_type": "execute_result"
    },
    {
     "data": {
      "image/png": "[encoded data removed]",
      "text/plain": [
       "<Figure size 640x480 with 1 Axes>"
      ]
     },
     "metadata": {},
     "output_type": "display_data"
    }
   ],
   "source": [
    "df.iloc[:,16:30:2].plot.hist()"
   ]
  },
  {
   "cell_type": "markdown",
   "id": "41fdc784-2eeb-4422-bc30-b97ffe70e3cc",
   "metadata": {},
   "source": [
    "**HISTOGRAM PLOTED BETWEEN AMOUNT ASKED AND AMOUNT INVESTED**"
   ]
  },
  {
   "cell_type": "code",
   "execution_count": 387,
   "id": "d2d5d8e9-c3a7-42cd-ae3a-da0525cd44a7",
   "metadata": {},
   "outputs": [
    {
     "data": {
      "text/plain": [
       "<Axes: ylabel='Frequency'>"
      ]
     },
     "execution_count": 387,
     "metadata": {},
     "output_type": "execute_result"
    },
    {
     "data": {
      "image/png": "[encoded data removed]",
      "text/plain": [
       "<Figure size 640x480 with 1 Axes>"
      ]
     },
     "metadata": {},
     "output_type": "display_data"
    }
   ],
   "source": [
    "df.iloc[:,8:10].plot.hist()"
   ]
  },
  {
   "cell_type": "markdown",
   "id": "bfbdd4e0-efed-4b1e-9ec4-dd599603a422",
   "metadata": {},
   "source": [
    "**HISTOGRAM BETWEEN EQUITY ASKED % AND EQUITY TAKEN %**"
   ]
  },
  {
   "cell_type": "code",
   "execution_count": 388,
   "id": "89470c44-f06d-441e-80e5-7ebdc11a920b",
   "metadata": {},
   "outputs": [
    {
     "data": {
      "text/plain": [
       "<Axes: ylabel='Frequency'>"
      ]
     },
     "execution_count": 388,
     "metadata": {},
     "output_type": "execute_result"
    },
    {
     "data": {
      "image/png": "[encoded data removed]",
      "text/plain": [
       "<Figure size 640x480 with 1 Axes>"
      ]
     },
     "metadata": {},
     "output_type": "display_data"
    }
   ],
   "source": [
    "df.iloc[:,12:14].plot.hist()"
   ]
  },
  {
   "cell_type": "code",
   "execution_count": null,
   "id": "800f9615-81fa-424e-840c-571bb8f3ef25",
   "metadata": {},
   "outputs": [],
   "source": []
  }
 ],
 "metadata": {
  "kernelspec": {
   "display_name": "Python [conda env:base] *",
   "language": "python",
   "name": "conda-base-py"
  },
  "language_info": {
   "codemirror_mode": {
    "name": "ipython",
    "version": 3
   },
   "file_extension": ".py",
   "mimetype": "text/x-python",
   "name": "python",
   "nbconvert_exporter": "python",
   "pygments_lexer": "ipython3",
   "version": "3.12.7"
  }
 },
 "nbformat": 4,
 "nbformat_minor": 5
}
